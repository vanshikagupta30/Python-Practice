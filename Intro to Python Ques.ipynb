{
 "cells": [
  {
   "cell_type": "raw",
   "id": "eb831af8",
   "metadata": {},
   "source": [
    "Find average Marks:\n",
    "Write a program to input marks of three tests of a student (all integers). Then calculate and print the average of all test marks.\n",
    "Input format :\n",
    "3 Test marks (in different lines)\n",
    "Sample Input :\n",
    "3 \n",
    "4 \n",
    "6\n",
    "Sample Output :\n",
    "4.333333333333333"
   ]
  },
  {
   "cell_type": "code",
   "execution_count": 5,
   "id": "df715635",
   "metadata": {},
   "outputs": [
    {
     "name": "stdout",
     "output_type": "stream",
     "text": [
      "2\n",
      "3\n",
      "4\n",
      "Output: 3\n"
     ]
    }
   ],
   "source": [
    "# In this we have to take 3 inputs first then we have to take avg of those 3 inputs and we took that by taking sum of them and\n",
    "# divide them by 3 because we only took 3 digits, if we work on n digits then we write n there and last we write '//' because\n",
    "# we want output in integer\n",
    "a1 = int(input())\n",
    "a2 = int(input())\n",
    "a3 = int(input())\n",
    "\n",
    "Average = (a1+a2+a3)//3\n",
    "print(\"Output:\",Average)"
   ]
  },
  {
   "cell_type": "raw",
   "id": "9acbfe8e",
   "metadata": {},
   "source": [
    "Find X raised to power N:\n",
    "You are given two integers: X and N. You have to calculate X raised to power N and print it.\n",
    "Input format:\n",
    "The first line of input contains an integer X (1 <= X <= 100)\n",
    "The second line of input contains an integer N (1 <= N <= 10) \n",
    "Sample Input:\n",
    "10\n",
    "4\n",
    "Sample Output:\n",
    "10000"
   ]
  },
  {
   "cell_type": "code",
   "execution_count": 6,
   "id": "b28d202a",
   "metadata": {},
   "outputs": [
    {
     "name": "stdout",
     "output_type": "stream",
     "text": [
      "10\n",
      "4\n",
      "Power of X is: 10000\n"
     ]
    }
   ],
   "source": [
    "# Here at first we take 2 inputs, first is for the number and second is for the power of that number then we perform '**' \n",
    "# operator i.e. power operator with the inputs\n",
    "X = int(input())\n",
    "N = int(input())\n",
    "Power = X**N\n",
    "print(\"Power of X is:\",Power)"
   ]
  },
  {
   "cell_type": "raw",
   "id": "8b3e878d",
   "metadata": {},
   "source": [
    "Arithmetic Progression: \n",
    "You are given first three entries of an arithmetic progression. You have to calculate the common difference and print it.\n",
    "Input format:\n",
    "The first line of input contains an integer a (1 <= a <= 100)\n",
    "The second line of input contains an integer b (1 <= b <= 100) \n",
    "The third line of input contains an integer c (1 <= c <= 100) \n",
    "Sample Input:\n",
    "1\n",
    "3\n",
    "5\n",
    "Sample Output:\n",
    "2"
   ]
  },
  {
   "cell_type": "code",
   "execution_count": 9,
   "id": "c9bdb355",
   "metadata": {},
   "outputs": [
    {
     "name": "stdout",
     "output_type": "stream",
     "text": [
      "1\n",
      "3\n",
      "5\n",
      "Difference between numbers: 2\n"
     ]
    }
   ],
   "source": [
    "# First we take 3 inputs from the user then we have to find the difference between the Arithmetic Progression which means it is\n",
    "# a series, so we find that by doing subraction of second number by first number because our first number is smaller \n",
    "a = int(input())\n",
    "b = int(input())\n",
    "c = int(input())\n",
    "diff = b-a\n",
    "print(\"Difference between numbers:\",diff)"
   ]
  },
  {
   "cell_type": "raw",
   "id": "f14e2df6",
   "metadata": {},
   "source": [
    "Rectangular Area:\n",
    "You are given a rectangle in a plane. The coordinates of one of its diagonals are provided to you. You have to print the total area of the rectangle.The coordinates of the rectangle are provided as four integral values: x1, y1, x2, y2. It is given that x1 < x2 and y1 < y2.\n",
    "Input format:\n",
    "The first line of input contains an integer x1 \n",
    "The second line of input contains an integer y1  \n",
    "The third line of input contains an integer x2 \n",
    "The fourth line of input contains an integer y2 \n",
    "Sample Input:\n",
    "1\n",
    "1\n",
    "3\n",
    "3\n",
    "Sample Output:\n",
    "4\n",
    "Explanation:\n",
    "The given coordinates of the diagonal are (x1,y1) = (1,1) and (x2,y2) = (3, 3). \n",
    "The area of the rectangle can then easily be calculated as: \n",
    "(3 – 1) * ( 3 – 1) = 2 * 2 = 4 "
   ]
  },
  {
   "cell_type": "code",
   "execution_count": 15,
   "id": "635d3fb7",
   "metadata": {},
   "outputs": [
    {
     "name": "stdout",
     "output_type": "stream",
     "text": [
      "1\n",
      "1\n",
      "3\n",
      "3\n",
      "4\n"
     ]
    }
   ],
   "source": [
    "# As rectangle has 4 side so, we take 4 inputs from the user then to find area we place a formula in it i.e. (x2-x1)*(y2-y1)\n",
    "x1 = int(input())\n",
    "y1 = int(input())\n",
    "x2= int(input())\n",
    "y2 = int(input())\n",
    "Area = (x2-x1)*(y2-y1)\n",
    "print(Area)"
   ]
  }
 ],
 "metadata": {
  "kernelspec": {
   "display_name": "Python 3",
   "language": "python",
   "name": "python3"
  },
  "language_info": {
   "codemirror_mode": {
    "name": "ipython",
    "version": 3
   },
   "file_extension": ".py",
   "mimetype": "text/x-python",
   "name": "python",
   "nbconvert_exporter": "python",
   "pygments_lexer": "ipython3",
   "version": "3.8.8"
  }
 },
 "nbformat": 4,
 "nbformat_minor": 5
}
