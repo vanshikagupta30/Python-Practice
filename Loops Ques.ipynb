{
 "cells": [
  {
   "cell_type": "raw",
   "id": "b2200442",
   "metadata": {},
   "source": [
    "Check number: Given an integer n, find if n is positive, negative or 0.\n",
    "If n is positive, print \"Positive\"\n",
    "If n is negative, print \"Negative\"\n",
    "And if n is equal to 0, print \"Zero\".\n",
    "\n",
    "Input Format :\n",
    "Integer n\n",
    "\n",
    "Output Format :\n",
    "\"Positive\" or \"Negative\" or \"Zero\" (without double quotes)\n",
    "\n",
    "Sample Input 1 :\n",
    "10\n",
    "Sample Output 1 :\n",
    "Positive\n",
    "Sample Input 2 :\n",
    "-10\n",
    "Sample Output 2 :\n",
    "Negative"
   ]
  },
  {
   "cell_type": "code",
   "execution_count": 2,
   "id": "7fabff65",
   "metadata": {},
   "outputs": [
    {
     "name": "stdout",
     "output_type": "stream",
     "text": [
      "45\n",
      "Positive\n"
     ]
    }
   ],
   "source": [
    "# here first we take input from the user then we check if n is equal to 0 then print \"ZERO\", if n is greater than 0 then print \n",
    "# \"POSITIVE\" and if n is less than 0 then it prints \"NEGATIVE\"\n",
    "n = int(input())\n",
    "if n==0:\n",
    "    print(\"Zero\")\n",
    "elif n>0:\n",
    "    print(\"Positive\")\n",
    "else:\n",
    "    print(\"Negative\")"
   ]
  },
  {
   "cell_type": "raw",
   "id": "264c2041",
   "metadata": {},
   "source": [
    "Sum of n numbers: Given an integer n, find and print the sum of numbers from 1 to n.\n",
    "Note : Use while loop only.\n",
    "Input Format :\n",
    "Integer n\n",
    "Output Format :\n",
    "Sum\n",
    "\n",
    "Sample Input :\n",
    "10\n",
    "Sample Output :\n",
    "55"
   ]
  },
  {
   "cell_type": "code",
   "execution_count": 4,
   "id": "17ef376b",
   "metadata": {},
   "outputs": [
    {
     "name": "stdout",
     "output_type": "stream",
     "text": [
      "10\n",
      "55\n"
     ]
    }
   ],
   "source": [
    "# here first we take input from the user then we initiate i to 1 because we have to iterate to all numbers and sum = 0 because\n",
    "# we also have to take sum of all number then we place our condition i.e. i<=n in while it means if n=10 and i=1 so, 1<=10 in \n",
    "# all these cases our loop will run, if this condition occurs 11<=10 then out loop will stop. So, if while condition is true \n",
    "# then it comes into while and we do sum of our i then increment i so that we do sum of all our i. And all last we will print \n",
    "# the sum\n",
    "n = int(input())\n",
    "i = 1\n",
    "sum = 0\n",
    "while i<=n:\n",
    "    sum +=i\n",
    "    i+=1\n",
    "print(sum)"
   ]
  },
  {
   "cell_type": "raw",
   "id": "1676f6a6",
   "metadata": {},
   "source": [
    "Sum of Even Numbers: Given a number N, print sum of all even numbers from 1 to N.\n",
    "Input Format :\n",
    "Integer N\n",
    "Output Format :\n",
    "Required Sum \n",
    "\n",
    "Sample Input 1 :\n",
    "6\n",
    "Sample Output 1 :\n",
    "12"
   ]
  },
  {
   "cell_type": "code",
   "execution_count": 12,
   "id": "840c4908",
   "metadata": {},
   "outputs": [
    {
     "name": "stdout",
     "output_type": "stream",
     "text": [
      "6\n",
      "12\n"
     ]
    }
   ],
   "source": [
    "# here first we take input from the user then we initialize i with 2 because want to print the sum of even numbers. So that's \n",
    "# why we take i=2 them for taking sum we initialize sum = 0, if our condition is true i.e i<=n then it comes under while then \n",
    "# we check if our number(i) is divisible by 2 then it is a even number all it to the variable sum and do increment and print the\n",
    "# SUM\n",
    "\n",
    "# n = int(input())\n",
    "# i = 1\n",
    "# sum = 0\n",
    "# while i<=n:\n",
    "#     if i%2==0:\n",
    "#         sum += i\n",
    "#     i+=1\n",
    "# print(sum)\n",
    "\n",
    "# OR\n",
    "\n",
    "n = int(input())\n",
    "i = 2\n",
    "sum = 0\n",
    "while i<=n:\n",
    "    sum += i\n",
    "    i+=2\n",
    "print(sum)"
   ]
  },
  {
   "cell_type": "raw",
   "id": "10fdacf2",
   "metadata": {},
   "source": [
    "Fahrenheit to Celsius: Given three values - Start Fahrenheit Value (S), End Fahrenheit value (E) and Step Size (W), you need to convert all Fahrenheit values from Start to End at the gap of W, into their corresponding Celsius values and print the table.\n",
    "\n",
    "Input Format :\n",
    "3 integers - S, E and W respectively \n",
    "Output Format :\n",
    "Fahrenheit to Celsius conversion table. One line for every Fahrenheit and corresponding Celsius value in integer form. The Fahrenheit value and its corresponding Celsius value should be separate by single space.\n",
    "\n",
    "Sample Output 1:\n",
    "0   -17\n",
    "20  -6\n",
    "40  4\n",
    "60  15\n",
    "80  26\n",
    "100 37\n",
    "Sample Input 2:\n",
    "20\n",
    "119\n",
    "13\n",
    "Sample Output 2:\n",
    "20  -6\n",
    "33  0 \n",
    "46  7\n",
    "59  15\n",
    "72  22\n",
    "85  29\n",
    "98  36\n",
    "111 43\n",
    "\n",
    "Explanation For Input 2:\n",
    "Start calculating the Celsius values for each Fahrenheit Value which starts from 20. So starting from 20, we need to compute its corresponding Celsius value which computes to -6. We print this information as <Fahrenheit Value> <a single space> <Celsius Value> on each line. Now add 13 to Fahrenheit Value at each step until you reach 119 in this case. You may or may not exactly land on the end value depending on the steps you are taking.\n"
   ]
  },
  {
   "cell_type": "code",
   "execution_count": 15,
   "id": "ff691ecb",
   "metadata": {},
   "outputs": [
    {
     "name": "stdout",
     "output_type": "stream",
     "text": [
      "0\n",
      "100\n",
      "20\n",
      "0 -17\n",
      "20 -6\n",
      "40 4\n",
      "60 15\n",
      "80 26\n",
      "100 37\n"
     ]
    }
   ],
   "source": [
    "# in this we have to convert to fah to cel so, we take input of fah values i.e. the start, end and the step size after that we\n",
    "# take a condition in while loop i.e. start<= end which means if start is less than end tbtk ye loop chlega i.e. hmara te fah ka\n",
    "# start h so, that's why we are taking this and you can also do like take another variable and store start in that variable\n",
    "# after that we write the formula i.e. celcius = (fah-32)*5/9 (instead of fah we write start because we have start as a input\n",
    "# and fah) then we print out values as a str and in celcius first we convert this in integer because celcius gives sometimes \n",
    "# floating type answer(as per the input) then convert it to the string because in middle of that we have to give space and we\n",
    "# we use here is concatination i.e. print(str(some_name) + \" \" + (str(some_name))) and at last we increment our step_size in \n",
    "# start because hme start se hi to increase krna h step size\n",
    "start = int(input())\n",
    "end = int(input())\n",
    "step_size = int(input())\n",
    "\n",
    "while start<= end:\n",
    "    cel = (start-32)*5/9\n",
    "    print(str(start) + \" \" + str(int(cel)))\n",
    "    start+=step_size"
   ]
  },
  {
   "cell_type": "raw",
   "id": "f9e8bc04",
   "metadata": {},
   "source": [
    "Calculator: Write a program that performs the tasks of a simple calculator. The program should first take an integer as input and then based on that integer perform the task as given below.\n",
    "\n",
    "1. If the input is 1, then 2 integers are taken from the user and their sum is printed.\n",
    "2. If the input is 2, then 2 integers are taken from the user and their difference(1st number - 2nd number) is printed.\n",
    "3. If the input is 3, then 2 integers are taken from the user and their product is printed.\n",
    "4. If the input is 4, then 2 integers are taken from the user and the quotient obtained (on dividing 1st number by 2nd number) is printed.\n",
    "5. If the input is 5, then 2 integers are taken from the user and their remainder(1st number mod 2nd number) is printed.\n",
    "6. If the input is 6, then the program exits.\n",
    "7. For any other input, then print \"Invalid Operation\".\n",
    "\n",
    "Input format:\n",
    "Take integers as input, in accordance to the description of the question. \n",
    "Output format:\n",
    "The output lines must be as prescribed in the description of the question.\n",
    "\n",
    "Sample Input:\n",
    "3\n",
    "1\n",
    "2\n",
    "4\n",
    "4\n",
    "2\n",
    "1\n",
    "3\n",
    "2\n",
    "7\n",
    "6\n",
    "Sample Output:\n",
    "2\n",
    "2\n",
    "5\n",
    "Invalid Operation\n",
    "\n",
    "Explanation of the sample input:\n",
    "The first number given is 3, so that means two more numbers will be given and we'll have to multiply them and show the result. The two numbers are 1 and 2. Their product is 2, so 2 is displayed first in the output. Similarly, all the numbers are processed in groups of three. The first number tells the operation and the next two numbers tell on which numbers the operation is done. This applies to numbers from 1 to 5. If the input is 6 (like it is at the end), two more numbers will NOT be provided, you simply have to exit the program. Also, if the input is any number except 1 to 6 (like 7 which is at the second last), then you simply have to print \"Invalid Operation\""
   ]
  },
  {
   "cell_type": "code",
   "execution_count": 17,
   "id": "381ff847",
   "metadata": {},
   "outputs": [
    {
     "name": "stdout",
     "output_type": "stream",
     "text": [
      "3\n",
      "4\n",
      "2\n",
      "8\n",
      "8\n",
      "Invalid Operations\n"
     ]
    }
   ],
   "source": [
    "while True:\n",
    "    n = int(input())\n",
    "    if n==1:\n",
    "        a = int(input())\n",
    "        b = int(input())\n",
    "        print(a+b)\n",
    "    elif n==2:\n",
    "        a = int(input())\n",
    "        b = int(input())\n",
    "        print(a-b)\n",
    "    elif n==3:\n",
    "        a = int(input())\n",
    "        b = int(input())\n",
    "        print(a*b)\n",
    "    elif n==4:\n",
    "        a = int(input())\n",
    "        b = int(input())\n",
    "        print(a//b)\n",
    "    elif n==5:\n",
    "        a = int(input())\n",
    "        b = int(input())\n",
    "        print(a%b)\n",
    "    elif n==6:\n",
    "        break\n",
    "    else:\n",
    "        print(\"Invalid Operations\")\n",
    "        break"
   ]
  },
  {
   "cell_type": "raw",
   "id": "66356a79",
   "metadata": {},
   "source": [
    "Reverse of a number: Write a program to generate the reverse of a given number N. Print the corresponding reverse number.\n",
    "\n",
    "Note : If a number has trailing zeros, then its reverse will not include them. For e.g., reverse of 10400 will be 401 instead of 00401.\n",
    "\n",
    "\n",
    "Input format :\n",
    "Integer N\n",
    "Output format :\n",
    "Corresponding reverse number\n",
    "\n",
    "Sample Input 1 :\n",
    "1234\n",
    "Sample Output 1 :\n",
    "4321\n",
    "Sample Input 2 :\n",
    "1980\n",
    "Sample Output 2 :\n",
    "891"
   ]
  },
  {
   "cell_type": "code",
   "execution_count": 18,
   "id": "e29d4d13",
   "metadata": {},
   "outputs": [
    {
     "name": "stdout",
     "output_type": "stream",
     "text": [
      "432\n",
      "jcnj 2\n",
      "jcnj 23\n",
      "jcnj 234\n",
      "234\n"
     ]
    }
   ],
   "source": [
    "# first we take input from the user then we give condition i.e. n>0 because if n is greater than 0 then only we will go in while\n",
    "# otherwise not and in while loop first we take last number but doing % then we make one formula and we will store that value \n",
    "# in rev_num(this rev_num will store our last value in 'SIDHA' order from every iteration) then we have to remove that number\n",
    "# which is in rev_num like we have 1234 and in rev_num we have 4 so in next step by n//10 we remove 4 so in next step we have\n",
    "# 123, again in this we use that formula and store it in rev_num.. jbtk hmari 'n' ki value 0 ni ho jati and vo while loop se \n",
    "# bhr ni aa jata tbtk ye chlta rahega.. last we will print our rev_num\n",
    "n = int(input())\n",
    "rev_num = 0\n",
    "while n>0:\n",
    "    rem = n%10\n",
    "    rev_num = rev_num*10+rem\n",
    "    print(\"jcnj\", rev_num)\n",
    "    n = n//10\n",
    "print(rev_num)"
   ]
  },
  {
   "cell_type": "raw",
   "id": "153fa16a",
   "metadata": {},
   "source": [
    "Palindrome number: Write a program to determine if given number is palindrome or not. Print true if it is palindrome, false otherwise. Palindrome are the numbers for which reverse is exactly same as the original one. For eg. 121\n",
    "\n",
    "Sample Input 1 :\n",
    "121\n",
    "Sample Output 1 :\n",
    "true\n",
    "Sample Input 2 :\n",
    "1032\n",
    "Sample Output 2 :\n",
    "false"
   ]
  },
  {
   "cell_type": "code",
   "execution_count": 24,
   "id": "d7c6a37d",
   "metadata": {},
   "outputs": [
    {
     "name": "stdout",
     "output_type": "stream",
     "text": [
      "434\n",
      "true\n"
     ]
    }
   ],
   "source": [
    "# first we take input from the user then we initiate rev_num to 0 because we store our reverse number into this variable then \n",
    "# re took temp & in temp variable we store n because in future we have to compare and see if n(our input) and rev_num is equal\n",
    "# or not, then we make our condition i.e. temp>0 (then come in while loop) because out input is 0 then how can we reverse it,in\n",
    "# while loop at first we take last number but doing % then we make one formula and we will store that value in rev_num(this \n",
    "# rev_num will store our last value in 'SIDHA' order from every iteration) then we have to remove that number which is in \n",
    "# rev_num like we have 1234 and in rev_num we have 4 so in next step by n//10 we remove 4 so in next step we have 123, again in\n",
    "# this we use that formula and store it in rev_num.. jbtk hmari 'n' ki value 0 ni ho jati and vo while loop se bhr ni aa jata \n",
    "# tbtk ye chlta rahega.. then we check if our n is equal to our output i.e. rev_num then it is palindrome print TRUE otherwise\n",
    "# print FALSE\n",
    "n = int(input())\n",
    "rev_num = 0\n",
    "temp = n\n",
    "while temp>0:\n",
    "    rem = temp%10\n",
    "    rev_num = rev_num*10+rem\n",
    "    temp = temp//10\n",
    "if n == rev_num:\n",
    "    print(\"true\")\n",
    "else:\n",
    "    print(\"false\")"
   ]
  },
  {
   "cell_type": "raw",
   "id": "c60f8570",
   "metadata": {},
   "source": [
    "Sum of even & odd: Write a program to input an integer N and print the sum of all its even digits and sum of all its odd digits separately. Digits mean numbers, not the places! That is, if the given integer is \"13245\", even digits are 2 & 4 and odd digits are 1, 3 & 5.\n",
    "\n",
    "Input format :\n",
    " Integer N\n",
    "Output format :\n",
    "Sum_of_Even_Digits Sum_of_Odd_Digits\n",
    "(Print first even sum and then odd sum separated by space)\n",
    "\n",
    "Sample Output 1:\n",
    "6 4\n",
    "Sample Input 2:\n",
    "552245\n",
    "Sample Output 2:\n",
    "8 15\n",
    "\n",
    "Explanation for Input 2:\n",
    "For the given input, the even digits are 2, 2 and 4 and if we take the sum of these digits it will come out to be 8(2 + 2 + 4) and similarly, if we look at the odd digits, they are, 5, 5 and 5 which makes a sum of 15(5 + 5 + 5). Hence the answer would be, 8(evenSum) <single space> 15(oddSum)"
   ]
  },
  {
   "cell_type": "code",
   "execution_count": 26,
   "id": "f706b51a",
   "metadata": {},
   "outputs": [
    {
     "name": "stdout",
     "output_type": "stream",
     "text": [
      "1234\n",
      "6 4\n"
     ]
    }
   ],
   "source": [
    "# first we take input from the user then we took sum_even and sum_off as a variable to store our even and odd numbers, then we\n",
    "# take a while condition as if n>0 then it will gies in loop and in that first we took last number with n%10 i.e. in 1234 we \n",
    "# have 4and store it in rem then we see if rem is divisible to 2 then it will add in sum_even otherwise it will add in sum_odd \n",
    "# after that we will deduct last number in 'n' so that in next iteration we have 123 and then at last we print our sum of odd \n",
    "# and even\n",
    "n = int(input())\n",
    "sum_even = 0\n",
    "sum_odd = 0\n",
    "\n",
    "while n>0:\n",
    "    rem = n%10\n",
    "    if rem%2 == 0:\n",
    "        sum_even += rem\n",
    "    else:\n",
    "        sum_odd += rem\n",
    "    n = n//10\n",
    "print(sum_even, sum_odd)"
   ]
  },
  {
   "cell_type": "raw",
   "id": "4a70a55c",
   "metadata": {},
   "source": [
    "Nth Fibonacci Number: Nth term of Fibonacci series F(n), where F(n) is a function, is calculated using the following formula -\n",
    "    F(n) = F(n-1) + F(n-2), \n",
    "    Where, F(1) =  1, \n",
    "           F(2) = 1\n",
    "Provided N you have to find out the Nth Fibonacci Number.\n",
    "\n",
    "Input Format :\n",
    "The first line of each test case contains a real number ‘N’.\n",
    "Output Format :\n",
    "For each test case, return its equivalent Fibonacci number.\n",
    "\n",
    "Sample Input 1:\n",
    "6\n",
    "Sample Output 1:\n",
    "8\n",
    "Explanation of Sample Input 1:\n",
    "Now the number is ‘6’ so we have to find the “6th” Fibonacci number\n",
    "So by using the property of the Fibonacci series i.e \n",
    "\n",
    "[ 1, 1, 2, 3, 5, 8, 13, 21]\n",
    "So the “6th” element is “8” hence we get the output."
   ]
  },
  {
   "cell_type": "code",
   "execution_count": 29,
   "id": "0f37bce1",
   "metadata": {},
   "outputs": [
    {
     "name": "stdout",
     "output_type": "stream",
     "text": [
      "8\n",
      "21\n"
     ]
    }
   ],
   "source": [
    "# first we take input from the user then first we take a=0, b=1 to initialize our first to number just to start our series then\n",
    "# i =0 to iterate our loop and in while loop if 'i<n' then we will go in loop and in that first we add our 2 numbers i.e. a and\n",
    "# b then to get next new numbers we will do a = b(now a will point to b) and b = s(b will store s value), So now a and b will\n",
    "# store our new numbers then we will increment i by 1 so that next time it will go and do the same as above... at last we will \n",
    "# print\n",
    "n = int(input())\n",
    "a = 0\n",
    "b = 1\n",
    "i = 0\n",
    "while i<n:\n",
    "    s = a+b\n",
    "    a = b\n",
    "    b = s\n",
    "    i+=1\n",
    "print(a)"
   ]
  }
 ],
 "metadata": {
  "kernelspec": {
   "display_name": "Python 3",
   "language": "python",
   "name": "python3"
  },
  "language_info": {
   "codemirror_mode": {
    "name": "ipython",
    "version": 3
   },
   "file_extension": ".py",
   "mimetype": "text/x-python",
   "name": "python",
   "nbconvert_exporter": "python",
   "pygments_lexer": "ipython3",
   "version": "3.8.8"
  }
 },
 "nbformat": 4,
 "nbformat_minor": 5
}
